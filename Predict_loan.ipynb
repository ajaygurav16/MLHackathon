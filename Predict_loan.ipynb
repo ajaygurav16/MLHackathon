{
 "cells": [
  {
   "cell_type": "code",
   "execution_count": 238,
   "metadata": {},
   "outputs": [],
   "source": [
    "import pandas as pd\n",
    "import numpy as np\n",
    "import matplotlib.pyplot as plt\n",
    "import seaborn as sns\n",
    "from sklearn.utils import shuffle\n",
    "from sklearn.linear_model import LogisticRegression\n",
    "from sklearn.model_selection import train_test_split,cross_val_score\n",
    "from sklearn.metrics import accuracy_score,f1_score,classification_report\n",
    "import xgboost as xgb\n",
    "import lightgbm as lgb\n",
    "from sklearn.naive_bayes import MultinomialNB\n",
    "\n",
    "from sklearn.preprocessing import StandardScaler\n",
    "from sklearn.ensemble import RandomForestClassifier,ExtraTreesClassifier\n",
    "from sklearn.decomposition import PCA\n",
    "from sklearn.svm import LinearSVC\n",
    "from sklearn.neighbors import KNeighborsClassifier\n",
    "import tensorflow as tf\n",
    "import warnings\n",
    "warnings.filterwarnings('ignore')\n"
   ]
  },
  {
   "cell_type": "code",
   "execution_count": null,
   "metadata": {},
   "outputs": [],
   "source": []
  },
  {
   "cell_type": "code",
   "execution_count": 61,
   "metadata": {},
   "outputs": [],
   "source": [
    "sv=LinearSVC()\n",
    "et=ExtraTreesClassifier()\n",
    "kn=KNeighborsClassifier(n_neighbors=5)\n",
    "\n",
    "lr=LogisticRegression()\n",
    "xg=xgb.XGBClassifier()\n",
    "mnb=MultinomialNB()\n",
    "rt=RandomForestClassifier()\n",
    "lg=lgb.LGBMClassifier()"
   ]
  },
  {
   "cell_type": "code",
   "execution_count": 241,
   "metadata": {},
   "outputs": [],
   "source": [
    "def printacc(y_pred,y_test):\n",
    "    print(\" Accuracy Score :\",accuracy_score(y_pred,y_test))\n",
    "    print(\"F1 Score :\",f1_score(y_pred,y_test))\n",
    "    print(\"Classification Report : \",classification_report(y_test,y_pred))\n",
    "    \n",
    "def plot_2d_space(X, y, label='Classes'):   \n",
    "    colors = ['#1F77B4', '#FF7F0E']\n",
    "    markers = ['o', 's']\n",
    "    for l, c, m in zip(np.unique(y), colors, markers):\n",
    "        plt.scatter(\n",
    "            X[y==l, 0],\n",
    "            X[y==l, 1],\n",
    "            c=c, label=l, marker=m\n",
    "        )\n",
    "    plt.title(label)\n",
    "    plt.legend(loc='upper right')\n",
    "    plt.show()\n",
    "\n",
    "\n",
    "\n",
    "def check_models_acc(X_train,y_train,X_test,y_test):\n",
    "   \n",
    "        \n",
    "    xg.fit(X_train,y_train)\n",
    "    y_pred=xg.predict(X_test)\n",
    "    print('XGboost')\n",
    "    printacc(y_pred,y_test)\n",
    "    \n",
    "    et.fit(X_train,y_train)\n",
    "    y_pred=et.predict(X_test)\n",
    "   \n",
    "    print('Extra tree class')\n",
    "    printacc(y_pred,y_test)\n",
    "    \n",
    "        \n",
    "    rt.fit(X_train,y_train)\n",
    "    y_pred=rt.predict(X_test)\n",
    "    \n",
    "    print('random forest')\n",
    "    printacc(y_pred,y_test)\n",
    "    \n",
    "    \n",
    "    lg.fit(X_train,y_train)\n",
    "    y_pred=lg.predict(X_test)\n",
    "    print('Lightgbm')\n",
    "    printacc(y_pred,y_test)\n",
    "    \n",
    "    \n",
    "    '''\n",
    "    \n",
    "    kn.fit(X_train,y_train)\n",
    "    y_pred=kn.predict(X_test)\n",
    "    print('KNN')\n",
    "    printacc(y_pred,y_test)\n",
    "    \n",
    "    \n",
    "    \n",
    "    lr.fit(X_train,y_train)\n",
    "    y_pred=lr.predict(X_test)\n",
    "    print('logistic regression')\n",
    "    printacc(y_pred,y_test)\n",
    "    \n",
    "    \n",
    "\n",
    "\n",
    "     \n",
    "   \n",
    "    sv.fit(X_train,y_train)\n",
    "    y_pred=sv.predict(X_test)\n",
    "    print('SVM')\n",
    "    printacc(y_pred,y_test)\n",
    "     \n",
    "\n",
    "       \n",
    "    \n",
    "     \n",
    "    \n",
    "    mnb.fit(X_train,y_train)\n",
    "\n",
    "    y_pred=mnb.predict(X_test)\n",
    "    \n",
    "    print('multi nomial')\n",
    "    printacc(y_pred,y_test)\n",
    "    '''\n",
    "    \n",
    "    \n",
    "def checkDist(y):\n",
    "\n",
    "    unique_elements, counts_elements = np.unique(y, return_counts=True)\n",
    "\n",
    "    print(\"Frequency of unique values of the said array: y \")\n",
    "    print(np.asarray((unique_elements, counts_elements)))\n",
    "    print('\\n')\n",
    "    print('\\n')\n",
    "    print('\\n')\n",
    "\n",
    "\n",
    "def chechpredict():\n",
    "   \n",
    "    print(\" XGBoost \")\n",
    "    ypr=xg.predict(Xt)\n",
    "    checkDist(ypr)\n",
    "  \n",
    "    print(\" extra  tree \")\n",
    "    ypr=et.predict(Xt)\n",
    "    checkDist(ypr)\n",
    "    \n",
    "    \n",
    "    print(\" random forest \")\n",
    "    ypr=rt.predict(Xt)\n",
    "    checkDist(ypr)\n",
    "    \n",
    "    print(\" lightgbm \")\n",
    "    ypr=lg.predict(Xt)\n",
    "    checkDist(ypr)\n",
    "    \n",
    "   \n",
    "    '''\n",
    "    print(\" logistic regression\")\n",
    "    ypr=lr.predict(Xt)\n",
    "    checkDist(ypr)\n",
    "    \n",
    "    print(\" kNN \")\n",
    "    ypr=kn.predict(Xt)\n",
    "    checkDist(ypr)\n",
    "    \n",
    "\n",
    "    \n",
    "    \n",
    "    print(\" multinomial\")\n",
    "    ypr=mnb.predict(Xt)\n",
    "    checkDist(ypr)\n",
    "    print(\" svm\")\n",
    "    \n",
    "    ypr=sv.predict(Xt)\n",
    "    checkDist(ypr)\n",
    "    \n",
    "    '''\n",
    "\n"
   ]
  },
  {
   "cell_type": "code",
   "execution_count": 270,
   "metadata": {},
   "outputs": [],
   "source": []
  },
  {
   "cell_type": "code",
   "execution_count": 304,
   "metadata": {},
   "outputs": [],
   "source": [
    "df=pd.read_csv('train.csv')\n",
    "#df['first_payment_month']=df.first_payment_date.apply(lambda x:x.split('/')[0])\n",
    "\n",
    "#df['first_payment_month']=df.first_payment_month.astype('object')\n",
    "#df['origination_month']=df.origination_date.apply(lambda x:x.split('-')[1])\n",
    "\n",
    "#df['origination_month']=df.origination_month.astype('object')\n",
    "\n",
    "df['mt']=df.m1+df.m2+df.m3+df.m4+df.m5+df.m6+df.m7+df.m8+df.m9+df.m10+df.m11+df.m12\n",
    "\n",
    "df = shuffle(df)\n",
    "\n",
    "\n",
    "\n",
    "\n",
    "y=df.m13.values\n",
    "\n",
    "df.drop(['insurance_type','financial_institution','origination_date','first_payment_date','m13','loan_id'],axis=1,inplace=True)\n",
    "  \n",
    "df=pd.get_dummies(df)\n",
    "\n",
    "X=df.values\n",
    "sc=StandardScaler()\n",
    "sc.fit_transform(X)\n",
    "\n",
    "\n",
    "X_train,X_test,y_train,y_test=train_test_split(X,y,test_size=0.2)"
   ]
  },
  {
   "cell_type": "code",
   "execution_count": null,
   "metadata": {},
   "outputs": [],
   "source": []
  },
  {
   "cell_type": "code",
   "execution_count": 305,
   "metadata": {},
   "outputs": [],
   "source": [
    "month_to_num={\"Jan\":1,\"Feb\":2,\"Mar\":3,\"Apr\":4,\"May\":5,\"Jun\":6,\"Jul\":7,\"Aug\":8,\"Sep\":9,\"Oct\":10,\"Nov\":11,\"Dec\":12}\n",
    "dt=pd.read_csv('test.csv')\n",
    "#dt['first_payment_month']=dt.first_payment_date.apply(lambda x:month_to_num[x.split('-')[0]])\n",
    "\n",
    "#dt['first_payment_month']=dt.first_payment_month.astype('object')\n",
    "#dt['origination_month']=dt.origination_date.apply(lambda x:x.split('/')[1])\n",
    "\n",
    "#dt['origination_month']=dt.origination_month.astype('object')\n",
    "dt['mt']=dt.m1+dt.m2+dt.m3+dt.m4+dt.m5+dt.m6+dt.m7+dt.m8+dt.m9+dt.m10+dt.m11+dt.m12\n",
    "\n",
    "l1=dt.loan_id\n",
    "#dt.drop(['origination_date','first_payment_date','loan_id'],axis=1,inplace=True)\n",
    "#dt.drop(['origination_date','first_payment_date','source','financial_institution','loan_purpose','loan_id'],axis=1,inplace=True)\n",
    "dt.drop(['insurance_type','financial_institution','origination_date','first_payment_date','loan_id'],axis=1,inplace=True)\n",
    "    \n",
    "dt=pd.get_dummies(dt)\n",
    "Xt=dt.values\n",
    "\n",
    "Xt=sc.transform(Xt)\n"
   ]
  },
  {
   "cell_type": "code",
   "execution_count": 206,
   "metadata": {},
   "outputs": [
    {
     "name": "stdout",
     "output_type": "stream",
     "text": [
      "Frequency of unique values of the said array: y \n",
      "[[     0      1]\n",
      " [115422    636]]\n",
      "\n",
      "\n",
      "\n",
      "\n",
      "\n",
      "\n"
     ]
    }
   ],
   "source": [
    "checkDist(y)"
   ]
  },
  {
   "cell_type": "code",
   "execution_count": 223,
   "metadata": {},
   "outputs": [
    {
     "data": {
      "text/plain": [
       "(35866, 27)"
      ]
     },
     "execution_count": 223,
     "metadata": {},
     "output_type": "execute_result"
    }
   ],
   "source": [
    "Xt.shape"
   ]
  },
  {
   "cell_type": "code",
   "execution_count": 60,
   "metadata": {},
   "outputs": [
    {
     "name": "stdout",
     "output_type": "stream",
     "text": [
      "SVM\n",
      " Accuracy Score : 0.9946866563271871\n",
      "F1 Score : 0.0\n",
      "Extra tree class\n",
      " Accuracy Score : 0.9953472341892124\n",
      "F1 Score : 0.3955223880597015\n",
      "KNN\n",
      " Accuracy Score : 0.9945717732207479\n",
      "F1 Score : 0.010471204188481676\n",
      "logistic regression\n",
      " Accuracy Score : 0.9942558446780401\n",
      "F1 Score : 0.0\n",
      "XGboost\n",
      " Accuracy Score : 0.9957780458383595\n",
      "F1 Score : 0.47686832740213525\n",
      "multi nomial\n",
      " Accuracy Score : 0.5902119593313804\n",
      "F1 Score : 0.01694915254237288\n",
      "random forest\n",
      " Accuracy Score : 0.9957493250617496\n",
      "F1 Score : 0.40322580645161293\n",
      "Lightgbm\n",
      " Accuracy Score : 0.9945717732207479\n",
      "F1 Score : 0.35051546391752575\n"
     ]
    }
   ],
   "source": [
    "check_models_acc(X_train,y_train,X_test,y_test)"
   ]
  },
  {
   "cell_type": "code",
   "execution_count": 56,
   "metadata": {},
   "outputs": [
    {
     "data": {
      "text/plain": [
       "Index(['interest_rate', 'unpaid_principal_bal', 'loan_term', 'loan_to_value',\n",
       "       'number_of_borrowers', 'debt_to_income_ratio', 'borrower_credit_score',\n",
       "       'insurance_percent', 'co-borrower_credit_score', 'm1', 'm2', 'm3', 'm4',\n",
       "       'm5', 'm6', 'm7', 'm8', 'm9', 'm10', 'm11', 'm12', 'source_X',\n",
       "       'source_Y', 'source_Z', 'loan_purpose_A23', 'loan_purpose_B12',\n",
       "       'loan_purpose_C86', 'first_payment_month_02', 'first_payment_month_03',\n",
       "       'first_payment_month_04', 'first_payment_month_05',\n",
       "       'origination_month_01', 'origination_month_02', 'origination_month_03'],\n",
       "      dtype='object')"
      ]
     },
     "execution_count": 56,
     "metadata": {},
     "output_type": "execute_result"
    }
   ],
   "source": [
    "df.columns"
   ]
  },
  {
   "cell_type": "code",
   "execution_count": 182,
   "metadata": {},
   "outputs": [
    {
     "name": "stdout",
     "output_type": "stream",
     "text": [
      "Removed indexes: [ 64733  20810 113021 ... 115649 115740 115946]\n"
     ]
    },
    {
     "data": {
      "image/png": "[encoded data removed]",
      "text/plain": [
       "<Figure size 432x288 with 1 Axes>"
      ]
     },
     "metadata": {
      "needs_background": "light"
     },
     "output_type": "display_data"
    }
   ],
   "source": [
    "from imblearn.under_sampling import RandomUnderSampler\n",
    "\n",
    "rus = RandomUnderSampler(return_indices=True)\n",
    "X_rus, y_rus, id_rus = rus.fit_sample(X, y)\n",
    "\n",
    "print('Removed indexes:', id_rus)\n",
    "\n",
    "plot_2d_space(X_rus, y_rus, 'Random under-sampling')"
   ]
  },
  {
   "cell_type": "code",
   "execution_count": 183,
   "metadata": {},
   "outputs": [
    {
     "name": "stdout",
     "output_type": "stream",
     "text": [
      "XGboost\n",
      " Accuracy Score : 0.9059107358262968\n",
      "F1 Score : 0.08266129032258064\n",
      "Extra tree class\n",
      " Accuracy Score : 0.88423229364122\n",
      "F1 Score : 0.08249112264408631\n",
      "random forest\n",
      " Accuracy Score : 0.9102188523177667\n",
      "F1 Score : 0.10079392474974112\n",
      "Lightgbm\n",
      " Accuracy Score : 0.8743753231087369\n",
      "F1 Score : 0.07651380795540917\n"
     ]
    }
   ],
   "source": [
    "check_models_acc(X_rus,y_rus,X_test,y_test)"
   ]
  },
  {
   "cell_type": "code",
   "execution_count": 184,
   "metadata": {},
   "outputs": [
    {
     "name": "stdout",
     "output_type": "stream",
     "text": [
      " XGBoost \n",
      "Frequency of unique values of the said array: y \n",
      "[[    0     1]\n",
      " [19426 16440]]\n",
      "\n",
      "\n",
      "\n",
      "\n",
      "\n",
      "\n",
      " extra  tree \n",
      "Frequency of unique values of the said array: y \n",
      "[[    0     1]\n",
      " [26545  9321]]\n",
      "\n",
      "\n",
      "\n",
      "\n",
      "\n",
      "\n",
      " random forest \n",
      "Frequency of unique values of the said array: y \n",
      "[[    0     1]\n",
      " [32754  3112]]\n",
      "\n",
      "\n",
      "\n",
      "\n",
      "\n",
      "\n",
      " lightgbm \n",
      "Frequency of unique values of the said array: y \n",
      "[[    0     1]\n",
      " [    5 35861]]\n",
      "\n",
      "\n",
      "\n",
      "\n",
      "\n",
      "\n"
     ]
    }
   ],
   "source": [
    "chechpredict()"
   ]
  },
  {
   "cell_type": "code",
   "execution_count": 221,
   "metadata": {},
   "outputs": [
    {
     "name": "stdout",
     "output_type": "stream",
     "text": [
      "114786 new random picked points\n"
     ]
    },
    {
     "data": {
      "image/png": "[encoded data removed]",
      "text/plain": [
       "<Figure size 432x288 with 1 Axes>"
      ]
     },
     "metadata": {
      "needs_background": "light"
     },
     "output_type": "display_data"
    }
   ],
   "source": [
    "from imblearn.over_sampling import RandomOverSampler\n",
    "\n",
    "ros = RandomOverSampler()\n",
    "X_ros, y_ros = ros.fit_sample(X, y)\n",
    "\n",
    "print(X_ros.shape[0] - X.shape[0], 'new random picked points')\n",
    "\n",
    "plot_2d_space(X_ros, y_ros, 'Random over-sampling')"
   ]
  },
  {
   "cell_type": "code",
   "execution_count": 222,
   "metadata": {},
   "outputs": [
    {
     "name": "stdout",
     "output_type": "stream",
     "text": [
      "XGboost\n",
      " Accuracy Score : 0.9116663794589006\n",
      "F1 Score : 0.08562254727078132\n",
      "Extra tree class\n",
      " Accuracy Score : 1.0\n",
      "F1 Score : 1.0\n",
      "random forest\n",
      " Accuracy Score : 1.0\n",
      "F1 Score : 1.0\n",
      "Lightgbm\n",
      " Accuracy Score : 0.9753231087368602\n",
      "F1 Score : 0.29941291585127205\n",
      " XGBoost \n",
      "Frequency of unique values of the said array: y \n",
      "[[    0     1]\n",
      " [35688   178]]\n",
      "\n",
      "\n",
      "\n",
      "\n",
      "\n",
      "\n",
      " extra  tree \n",
      "Frequency of unique values of the said array: y \n",
      "[[    0     1]\n",
      " [35828    38]]\n",
      "\n",
      "\n",
      "\n",
      "\n",
      "\n",
      "\n",
      " random forest \n",
      "Frequency of unique values of the said array: y \n",
      "[[    0]\n",
      " [35866]]\n",
      "\n",
      "\n",
      "\n",
      "\n",
      "\n",
      "\n",
      " lightgbm \n",
      "Frequency of unique values of the said array: y \n",
      "[[    0     1]\n",
      " [35720   146]]\n",
      "\n",
      "\n",
      "\n",
      "\n",
      "\n",
      "\n"
     ]
    }
   ],
   "source": [
    "check_models_acc(X_ros,y_ros,X_test,y_test)\n",
    "chechpredict()"
   ]
  },
  {
   "cell_type": "code",
   "execution_count": 187,
   "metadata": {},
   "outputs": [
    {
     "name": "stdout",
     "output_type": "stream",
     "text": [
      "Removed indexes: [     0      1      2 ... 116055 116056 116057]\n"
     ]
    },
    {
     "data": {
      "image/png": "[encoded data removed]",
      "text/plain": [
       "<Figure size 432x288 with 1 Axes>"
      ]
     },
     "metadata": {
      "needs_background": "light"
     },
     "output_type": "display_data"
    }
   ],
   "source": [
    "from imblearn.under_sampling import TomekLinks\n",
    "\n",
    "tl = TomekLinks(return_indices=True, ratio='majority')\n",
    "X_tl, y_tl, id_tl = tl.fit_sample(X, y)\n",
    "\n",
    "print('Removed indexes:', id_tl)\n",
    "\n",
    "plot_2d_space(X_tl, y_tl, 'Tomek links under-sampling')"
   ]
  },
  {
   "cell_type": "code",
   "execution_count": 188,
   "metadata": {},
   "outputs": [
    {
     "name": "stdout",
     "output_type": "stream",
     "text": [
      "XGboost\n",
      " Accuracy Score : 0.9968981561261416\n",
      "F1 Score : 0.6153846153846154\n",
      "Extra tree class\n",
      " Accuracy Score : 1.0\n",
      "F1 Score : 1.0\n",
      "random forest\n",
      " Accuracy Score : 0.9994485610890919\n",
      "F1 Score : 0.9440559440559442\n",
      "Lightgbm\n",
      " Accuracy Score : 0.9966224366706876\n",
      "F1 Score : 0.6370370370370371\n",
      " XGBoost \n",
      "Frequency of unique values of the said array: y \n",
      "[[    0     1]\n",
      " [35786    80]]\n",
      "\n",
      "\n",
      "\n",
      "\n",
      "\n",
      "\n",
      " extra  tree \n",
      "Frequency of unique values of the said array: y \n",
      "[[    0     1]\n",
      " [35754   112]]\n",
      "\n",
      "\n",
      "\n",
      "\n",
      "\n",
      "\n",
      " random forest \n",
      "Frequency of unique values of the said array: y \n",
      "[[    0     1]\n",
      " [35718   148]]\n",
      "\n",
      "\n",
      "\n",
      "\n",
      "\n",
      "\n",
      " lightgbm \n",
      "Frequency of unique values of the said array: y \n",
      "[[    0     1]\n",
      " [35682   184]]\n",
      "\n",
      "\n",
      "\n",
      "\n",
      "\n",
      "\n"
     ]
    }
   ],
   "source": [
    "check_models_acc(X_tl,y_tl,X_test,y_test)\n",
    "chechpredict()"
   ]
  },
  {
   "cell_type": "code",
   "execution_count": 189,
   "metadata": {},
   "outputs": [
    {
     "data": {
      "image/png": "[encoded data removed]",
      "text/plain": [
       "<Figure size 432x288 with 1 Axes>"
      ]
     },
     "metadata": {
      "needs_background": "light"
     },
     "output_type": "display_data"
    }
   ],
   "source": [
    "from imblearn.under_sampling import ClusterCentroids\n",
    "\n",
    "cc = ClusterCentroids(ratio={0: 10})\n",
    "X_cc, y_cc = cc.fit_sample(X, y)\n",
    "\n",
    "plot_2d_space(X_cc, y_cc, 'Cluster Centroids under-sampling')"
   ]
  },
  {
   "cell_type": "code",
   "execution_count": 190,
   "metadata": {},
   "outputs": [
    {
     "name": "stdout",
     "output_type": "stream",
     "text": [
      "XGboost\n",
      " Accuracy Score : 0.005204204721695675\n",
      "F1 Score : 0.01035452238908318\n",
      "Extra tree class\n",
      " Accuracy Score : 0.005204204721695675\n",
      "F1 Score : 0.01035452238908318\n",
      "random forest\n",
      " Accuracy Score : 0.005204204721695675\n",
      "F1 Score : 0.01035452238908318\n",
      "Lightgbm\n",
      " Accuracy Score : 0.005204204721695675\n",
      "F1 Score : 0.01035452238908318\n",
      " XGBoost \n",
      "Frequency of unique values of the said array: y \n",
      "[[    1]\n",
      " [35866]]\n",
      "\n",
      "\n",
      "\n",
      "\n",
      "\n",
      "\n",
      " extra  tree \n",
      "Frequency of unique values of the said array: y \n",
      "[[    1]\n",
      " [35866]]\n",
      "\n",
      "\n",
      "\n",
      "\n",
      "\n",
      "\n",
      " random forest \n",
      "Frequency of unique values of the said array: y \n",
      "[[    1]\n",
      " [35866]]\n",
      "\n",
      "\n",
      "\n",
      "\n",
      "\n",
      "\n",
      " lightgbm \n",
      "Frequency of unique values of the said array: y \n",
      "[[    1]\n",
      " [35866]]\n",
      "\n",
      "\n",
      "\n",
      "\n",
      "\n",
      "\n"
     ]
    }
   ],
   "source": [
    "check_models_acc(X_cc,y_cc,X_test,y_test)\n",
    "chechpredict()"
   ]
  },
  {
   "cell_type": "code",
   "execution_count": 299,
   "metadata": {},
   "outputs": [
    {
     "data": {
      "image/png": "[encoded data removed]",
      "text/plain": [
       "<Figure size 432x288 with 1 Axes>"
      ]
     },
     "metadata": {
      "needs_background": "light"
     },
     "output_type": "display_data"
    }
   ],
   "source": [
    "from imblearn.over_sampling import SMOTE\n",
    "\n",
    "smote = SMOTE(ratio='minority')\n",
    "X_sm, y_sm = smote.fit_sample(X, y)\n",
    "\n",
    "plot_2d_space(X_sm, y_sm, 'SMOTE over-sampling')"
   ]
  },
  {
   "cell_type": "code",
   "execution_count": 300,
   "metadata": {},
   "outputs": [
    {
     "name": "stdout",
     "output_type": "stream",
     "text": [
      "XGboost\n",
      " Accuracy Score : 0.9894881957608134\n",
      "F1 Score : 0.39\n",
      "Classification Report :                precision    recall  f1-score   support\n",
      "\n",
      "           0       1.00      0.99      0.99     23066\n",
      "           1       0.31      0.53      0.39       146\n",
      "\n",
      "    accuracy                           0.99     23212\n",
      "   macro avg       0.65      0.76      0.69     23212\n",
      "weighted avg       0.99      0.99      0.99     23212\n",
      "\n",
      "Extra tree class\n",
      " Accuracy Score : 1.0\n",
      "F1 Score : 1.0\n",
      "Classification Report :                precision    recall  f1-score   support\n",
      "\n",
      "           0       1.00      1.00      1.00     23066\n",
      "           1       1.00      1.00      1.00       146\n",
      "\n",
      "    accuracy                           1.00     23212\n",
      "   macro avg       1.00      1.00      1.00     23212\n",
      "weighted avg       1.00      1.00      1.00     23212\n",
      "\n",
      "random forest\n",
      " Accuracy Score : 0.9990522143718766\n",
      "F1 Score : 0.9197080291970804\n",
      "Classification Report :                precision    recall  f1-score   support\n",
      "\n",
      "           0       1.00      1.00      1.00     23066\n",
      "           1       0.98      0.86      0.92       146\n",
      "\n",
      "    accuracy                           1.00     23212\n",
      "   macro avg       0.99      0.93      0.96     23212\n",
      "weighted avg       1.00      1.00      1.00     23212\n",
      "\n",
      "Lightgbm\n",
      " Accuracy Score : 0.9940117180768568\n",
      "F1 Score : 0.46743295019157094\n",
      "Classification Report :                precision    recall  f1-score   support\n",
      "\n",
      "           0       1.00      1.00      1.00     23066\n",
      "           1       0.53      0.42      0.47       146\n",
      "\n",
      "    accuracy                           0.99     23212\n",
      "   macro avg       0.76      0.71      0.73     23212\n",
      "weighted avg       0.99      0.99      0.99     23212\n",
      "\n",
      " XGBoost \n",
      "Frequency of unique values of the said array: y \n",
      "[[    0     1]\n",
      " [35520   346]]\n",
      "\n",
      "\n",
      "\n",
      "\n",
      "\n",
      "\n",
      " extra  tree \n",
      "Frequency of unique values of the said array: y \n",
      "[[    0     1]\n",
      " [35771    95]]\n",
      "\n",
      "\n",
      "\n",
      "\n",
      "\n",
      "\n",
      " random forest \n",
      "Frequency of unique values of the said array: y \n",
      "[[    0     1]\n",
      " [35709   157]]\n",
      "\n",
      "\n",
      "\n",
      "\n",
      "\n",
      "\n",
      " lightgbm \n",
      "Frequency of unique values of the said array: y \n",
      "[[    0     1]\n",
      " [35415   451]]\n",
      "\n",
      "\n",
      "\n",
      "\n",
      "\n",
      "\n"
     ]
    }
   ],
   "source": [
    "check_models_acc(X_sm,y_sm,X_test,y_test)\n",
    "chechpredict()"
   ]
  },
  {
   "cell_type": "code",
   "execution_count": 301,
   "metadata": {},
   "outputs": [
    {
     "data": {
      "image/png": "[encoded data removed]",
      "text/plain": [
       "<Figure size 432x288 with 1 Axes>"
      ]
     },
     "metadata": {
      "needs_background": "light"
     },
     "output_type": "display_data"
    }
   ],
   "source": [
    "from imblearn.combine import SMOTETomek\n",
    "\n",
    "smt = SMOTETomek(ratio='auto')\n",
    "X_smt, y_smt = smt.fit_sample(X, y)\n",
    "\n",
    "plot_2d_space(X_smt, y_smt, 'SMOTE + Tomek links')"
   ]
  },
  {
   "cell_type": "code",
   "execution_count": null,
   "metadata": {},
   "outputs": [],
   "source": []
  },
  {
   "cell_type": "code",
   "execution_count": 302,
   "metadata": {},
   "outputs": [
    {
     "name": "stdout",
     "output_type": "stream",
     "text": [
      "XGboost\n",
      " Accuracy Score : 0.9901344132345339\n",
      "F1 Score : 0.4051948051948052\n",
      "Classification Report :                precision    recall  f1-score   support\n",
      "\n",
      "           0       1.00      0.99      1.00     23066\n",
      "           1       0.33      0.53      0.41       146\n",
      "\n",
      "    accuracy                           0.99     23212\n",
      "   macro avg       0.66      0.76      0.70     23212\n",
      "weighted avg       0.99      0.99      0.99     23212\n",
      "\n",
      "Extra tree class\n",
      " Accuracy Score : 0.9999138376701706\n",
      "F1 Score : 0.993103448275862\n",
      "Classification Report :                precision    recall  f1-score   support\n",
      "\n",
      "           0       1.00      1.00      1.00     23066\n",
      "           1       1.00      0.99      0.99       146\n",
      "\n",
      "    accuracy                           1.00     23212\n",
      "   macro avg       1.00      0.99      1.00     23212\n",
      "weighted avg       1.00      1.00      1.00     23212\n",
      "\n",
      "random forest\n",
      " Accuracy Score : 0.9992245390315354\n",
      "F1 Score : 0.935251798561151\n",
      "Classification Report :                precision    recall  f1-score   support\n",
      "\n",
      "           0       1.00      1.00      1.00     23066\n",
      "           1       0.98      0.89      0.94       146\n",
      "\n",
      "    accuracy                           1.00     23212\n",
      "   macro avg       0.99      0.95      0.97     23212\n",
      "weighted avg       1.00      1.00      1.00     23212\n",
      "\n",
      "Lightgbm\n",
      " Accuracy Score : 0.9949595037049802\n",
      "F1 Score : 0.5145228215767635\n",
      "Classification Report :                precision    recall  f1-score   support\n",
      "\n",
      "           0       1.00      1.00      1.00     23066\n",
      "           1       0.65      0.42      0.51       146\n",
      "\n",
      "    accuracy                           0.99     23212\n",
      "   macro avg       0.82      0.71      0.76     23212\n",
      "weighted avg       0.99      0.99      0.99     23212\n",
      "\n",
      " XGBoost \n",
      "Frequency of unique values of the said array: y \n",
      "[[    0     1]\n",
      " [35438   428]]\n",
      "\n",
      "\n",
      "\n",
      "\n",
      "\n",
      "\n",
      " extra  tree \n",
      "Frequency of unique values of the said array: y \n",
      "[[    0     1]\n",
      " [35760   106]]\n",
      "\n",
      "\n",
      "\n",
      "\n",
      "\n",
      "\n",
      " random forest \n",
      "Frequency of unique values of the said array: y \n",
      "[[    0     1]\n",
      " [35854    12]]\n",
      "\n",
      "\n",
      "\n",
      "\n",
      "\n",
      "\n",
      " lightgbm \n",
      "Frequency of unique values of the said array: y \n",
      "[[    0     1]\n",
      " [35492   374]]\n",
      "\n",
      "\n",
      "\n",
      "\n",
      "\n",
      "\n"
     ]
    }
   ],
   "source": [
    "check_models_acc(X_smt,y_smt,X_test,y_test)\n",
    "chechpredict()"
   ]
  },
  {
   "cell_type": "code",
   "execution_count": 303,
   "metadata": {},
   "outputs": [],
   "source": [
    "ypr=xg.predict(Xt)\n",
    "tp=pd.DataFrame({'loan_id':l1,'m13':ypr})\n",
    "\n",
    "tp.to_csv('Submission_sampl_XG3.csv',index=False)\n",
    "\n",
    "ypr=lg.predict(Xt)\n",
    "tp=pd.DataFrame({'loan_id':l1,'m13':ypr})\n",
    "\n",
    "tp.to_csv('Submission_sampl_lG3.csv',index=False)\n",
    "\n",
    "ypr=et.predict(Xt)\n",
    "tp=pd.DataFrame({'loan_id':l1,'m13':ypr})\n",
    "\n",
    "tp.to_csv('Submission_sampl_XT3.csv',index=False)\n",
    "\n"
   ]
  },
  {
   "cell_type": "code",
   "execution_count": 207,
   "metadata": {},
   "outputs": [],
   "source": [
    "#selected sampling "
   ]
  },
  {
   "cell_type": "code",
   "execution_count": 224,
   "metadata": {},
   "outputs": [
    {
     "name": "stdout",
     "output_type": "stream",
     "text": [
      "Removed indexes: [     0      1      2 ... 116055 116056 116057]\n"
     ]
    },
    {
     "data": {
      "image/png": "[encoded data removed]",
      "text/plain": [
       "<Figure size 432x288 with 1 Axes>"
      ]
     },
     "metadata": {
      "needs_background": "light"
     },
     "output_type": "display_data"
    }
   ],
   "source": [
    "from imblearn.under_sampling import TomekLinks\n",
    "\n",
    "tl = TomekLinks(return_indices=True, ratio='majority')\n",
    "X_tl, y_tl, id_tl = tl.fit_sample(X, y)\n",
    "\n",
    "print('Removed indexes:', id_tl)\n",
    "\n",
    "plot_2d_space(X_tl, y_tl, 'Tomek links under-sampling')"
   ]
  },
  {
   "cell_type": "code",
   "execution_count": 225,
   "metadata": {},
   "outputs": [
    {
     "name": "stdout",
     "output_type": "stream",
     "text": [
      "XGboost\n",
      " Accuracy Score : 0.9964845769429606\n",
      "F1 Score : 0.560344827586207\n",
      "Extra tree class\n",
      " Accuracy Score : 1.0\n",
      "F1 Score : 1.0\n",
      "random forest\n",
      " Accuracy Score : 0.9990694468378425\n",
      "F1 Score : 0.9059233449477352\n",
      "Lightgbm\n",
      " Accuracy Score : 0.9964845769429606\n",
      "F1 Score : 0.6015625000000001\n",
      " XGBoost \n",
      "Frequency of unique values of the said array: y \n",
      "[[    0     1]\n",
      " [35781    85]]\n",
      "\n",
      "\n",
      "\n",
      "\n",
      "\n",
      "\n",
      " extra  tree \n",
      "Frequency of unique values of the said array: y \n",
      "[[    0     1]\n",
      " [35773    93]]\n",
      "\n",
      "\n",
      "\n",
      "\n",
      "\n",
      "\n",
      " random forest \n",
      "Frequency of unique values of the said array: y \n",
      "[[    0     1]\n",
      " [35773    93]]\n",
      "\n",
      "\n",
      "\n",
      "\n",
      "\n",
      "\n",
      " lightgbm \n",
      "Frequency of unique values of the said array: y \n",
      "[[    0     1]\n",
      " [35672   194]]\n",
      "\n",
      "\n",
      "\n",
      "\n",
      "\n",
      "\n"
     ]
    }
   ],
   "source": [
    "check_models_acc(X_tl,y_tl,X_test,y_test)\n",
    "chechpredict()"
   ]
  },
  {
   "cell_type": "code",
   "execution_count": null,
   "metadata": {},
   "outputs": [],
   "source": []
  },
  {
   "cell_type": "code",
   "execution_count": null,
   "metadata": {},
   "outputs": [],
   "source": []
  },
  {
   "cell_type": "code",
   "execution_count": 210,
   "metadata": {},
   "outputs": [],
   "source": [
    "ypr=rt.predict(Xt)\n",
    "tp=pd.DataFrame({'loan_id':l1,'m13':ypr})\n",
    "\n",
    "tp.to_csv('Submission_sampl_RT1.csv',index=False)\n",
    "\n"
   ]
  },
  {
   "cell_type": "code",
   "execution_count": 211,
   "metadata": {},
   "outputs": [],
   "source": [
    "ypr=et.predict(Xt)\n",
    "tp=pd.DataFrame({'loan_id':l1,'m13':ypr})\n",
    "\n",
    "tp.to_csv('Submission_sampl_XT1.csv',index=False)"
   ]
  },
  {
   "cell_type": "code",
   "execution_count": 212,
   "metadata": {},
   "outputs": [],
   "source": [
    "ypr=xg.predict(Xt)\n",
    "tp=pd.DataFrame({'loan_id':l1,'m13':ypr})\n",
    "\n",
    "tp.to_csv('Submission_sampl_XG1.csv',index=False)\n",
    "\n",
    "ypr=lg.predict(Xt)\n",
    "tp=pd.DataFrame({'loan_id':l1,'m13':ypr})\n",
    "\n",
    "tp.to_csv('Submission_sampl_lG1.csv',index=False)"
   ]
  },
  {
   "cell_type": "code",
   "execution_count": 213,
   "metadata": {},
   "outputs": [],
   "source": []
  },
  {
   "cell_type": "code",
   "execution_count": 214,
   "metadata": {},
   "outputs": [
    {
     "data": {
      "image/png": "[encoded data removed]",
      "text/plain": [
       "<Figure size 1080x1080 with 1 Axes>"
      ]
     },
     "metadata": {
      "needs_background": "light"
     },
     "output_type": "display_data"
    }
   ],
   "source": [
    "\n",
    "plt.figure(figsize=(15,15))\n",
    "feat_importances = pd.Series(et.feature_importances_, index=df.columns)\n",
    "feat_importances.nlargest(50).plot(kind='barh')\n",
    "plt.show()"
   ]
  },
  {
   "cell_type": "code",
   "execution_count": 215,
   "metadata": {},
   "outputs": [
    {
     "name": "stdout",
     "output_type": "stream",
     "text": [
      "114786 new random picked points\n"
     ]
    },
    {
     "data": {
      "image/png": "[encoded data removed]",
      "text/plain": [
       "<Figure size 432x288 with 1 Axes>"
      ]
     },
     "metadata": {
      "needs_background": "light"
     },
     "output_type": "display_data"
    }
   ],
   "source": [
    "from imblearn.over_sampling import RandomOverSampler\n",
    "\n",
    "ros = RandomOverSampler()\n",
    "X_ros, y_ros = ros.fit_sample(X, y)\n",
    "\n",
    "print(X_ros.shape[0] - X.shape[0], 'new random picked points')\n",
    "\n",
    "plot_2d_space(X_ros, y_ros, 'Random over-sampling')"
   ]
  },
  {
   "cell_type": "code",
   "execution_count": 216,
   "metadata": {},
   "outputs": [
    {
     "name": "stdout",
     "output_type": "stream",
     "text": [
      "XGboost\n",
      " Accuracy Score : 0.9137342753748061\n",
      "F1 Score : 0.08816029143897998\n",
      "Extra tree class\n",
      " Accuracy Score : 1.0\n",
      "F1 Score : 1.0\n",
      "random forest\n",
      " Accuracy Score : 0.9999655350680683\n",
      "F1 Score : 0.9968051118210862\n",
      "Lightgbm\n",
      " Accuracy Score : 0.9735309322764087\n",
      "F1 Score : 0.2849162011173184\n",
      " XGBoost \n",
      "Frequency of unique values of the said array: y \n",
      "[[    0     1]\n",
      " [35697   169]]\n",
      "\n",
      "\n",
      "\n",
      "\n",
      "\n",
      "\n",
      " extra  tree \n",
      "Frequency of unique values of the said array: y \n",
      "[[    0     1]\n",
      " [35789    77]]\n",
      "\n",
      "\n",
      "\n",
      "\n",
      "\n",
      "\n",
      " random forest \n",
      "Frequency of unique values of the said array: y \n",
      "[[    0]\n",
      " [35866]]\n",
      "\n",
      "\n",
      "\n",
      "\n",
      "\n",
      "\n",
      " lightgbm \n",
      "Frequency of unique values of the said array: y \n",
      "[[    0     1]\n",
      " [35699   167]]\n",
      "\n",
      "\n",
      "\n",
      "\n",
      "\n",
      "\n"
     ]
    }
   ],
   "source": [
    "check_models_acc(X_ros,y_ros,X_test,y_test)\n",
    "chechpredict()"
   ]
  },
  {
   "cell_type": "code",
   "execution_count": 217,
   "metadata": {},
   "outputs": [],
   "source": [
    "ypr=rt.predict(Xt)\n",
    "tp=pd.DataFrame({'loan_id':l1,'m13':ypr})\n",
    "\n",
    "tp.to_csv('Submission_sampl_RT2.csv',index=False)\n",
    "\n",
    "\n",
    "ypr=et.predict(Xt)\n",
    "tp=pd.DataFrame({'loan_id':l1,'m13':ypr})\n",
    "\n",
    "tp.to_csv('Submission_sampl_XT2.csv',index=False)\n",
    "\n",
    "ypr=xg.predict(Xt)\n",
    "tp=pd.DataFrame({'loan_id':l1,'m13':ypr})\n",
    "\n",
    "tp.to_csv('Submission_sampl_XG2.csv',index=False)\n",
    "\n",
    "ypr=lg.predict(Xt)\n",
    "tp=pd.DataFrame({'loan_id':l1,'m13':ypr})\n",
    "\n",
    "tp.to_csv('Submission_sampl_lG2.csv',index=False)"
   ]
  },
  {
   "cell_type": "code",
   "execution_count": null,
   "metadata": {},
   "outputs": [],
   "source": []
  },
  {
   "cell_type": "code",
   "execution_count": null,
   "metadata": {},
   "outputs": [],
   "source": []
  },
  {
   "cell_type": "code",
   "execution_count": null,
   "metadata": {},
   "outputs": [],
   "source": []
  },
  {
   "cell_type": "code",
   "execution_count": null,
   "metadata": {},
   "outputs": [],
   "source": [
    "# selected sampling omek links under-sampling"
   ]
  },
  {
   "cell_type": "code",
   "execution_count": 306,
   "metadata": {},
   "outputs": [
    {
     "name": "stdout",
     "output_type": "stream",
     "text": [
      "Removed indexes: [     0      1      2 ... 116055 116056 116057]\n"
     ]
    },
    {
     "data": {
      "image/png": "[encoded data removed]",
      "text/plain": [
       "<Figure size 432x288 with 1 Axes>"
      ]
     },
     "metadata": {
      "needs_background": "light"
     },
     "output_type": "display_data"
    }
   ],
   "source": [
    "from imblearn.under_sampling import TomekLinks\n",
    "\n",
    "tl = TomekLinks(return_indices=True, ratio='majority')\n",
    "X_tl, y_tl, id_tl = tl.fit_sample(X, y)\n",
    "\n",
    "print('Removed indexes:', id_tl)\n",
    "\n",
    "plot_2d_space(X_tl, y_tl, 'Tomek links under-sampling')"
   ]
  },
  {
   "cell_type": "code",
   "execution_count": null,
   "metadata": {},
   "outputs": [],
   "source": []
  },
  {
   "cell_type": "code",
   "execution_count": 307,
   "metadata": {},
   "outputs": [
    {
     "name": "stdout",
     "output_type": "stream",
     "text": [
      "XGboost\n",
      " Accuracy Score : 0.9962519386524211\n",
      "F1 Score : 0.5671641791044776\n",
      "Classification Report :                precision    recall  f1-score   support\n",
      "\n",
      "           0       1.00      1.00      1.00     23078\n",
      "           1       0.85      0.43      0.57       134\n",
      "\n",
      "    accuracy                           1.00     23212\n",
      "   macro avg       0.92      0.71      0.78     23212\n",
      "weighted avg       1.00      1.00      1.00     23212\n",
      "\n",
      "Extra tree class\n",
      " Accuracy Score : 1.0\n",
      "F1 Score : 1.0\n",
      "Classification Report :                precision    recall  f1-score   support\n",
      "\n",
      "           0       1.00      1.00      1.00     23078\n",
      "           1       1.00      1.00      1.00       134\n",
      "\n",
      "    accuracy                           1.00     23212\n",
      "   macro avg       1.00      1.00      1.00     23212\n",
      "weighted avg       1.00      1.00      1.00     23212\n",
      "\n",
      "random forest\n",
      " Accuracy Score : 0.9988368085473032\n",
      "F1 Score : 0.888888888888889\n",
      "Classification Report :                precision    recall  f1-score   support\n",
      "\n",
      "           0       1.00      1.00      1.00     23078\n",
      "           1       0.99      0.81      0.89       134\n",
      "\n",
      "    accuracy                           1.00     23212\n",
      "   macro avg       0.99      0.90      0.94     23212\n",
      "weighted avg       1.00      1.00      1.00     23212\n",
      "\n",
      "Lightgbm\n",
      " Accuracy Score : 0.9962519386524211\n",
      "F1 Score : 0.599078341013825\n",
      "Classification Report :                precision    recall  f1-score   support\n",
      "\n",
      "           0       1.00      1.00      1.00     23078\n",
      "           1       0.78      0.49      0.60       134\n",
      "\n",
      "    accuracy                           1.00     23212\n",
      "   macro avg       0.89      0.74      0.80     23212\n",
      "weighted avg       1.00      1.00      1.00     23212\n",
      "\n",
      " XGBoost \n",
      "Frequency of unique values of the said array: y \n",
      "[[    0     1]\n",
      " [35802    64]]\n",
      "\n",
      "\n",
      "\n",
      "\n",
      "\n",
      "\n",
      " extra  tree \n",
      "Frequency of unique values of the said array: y \n",
      "[[    0     1]\n",
      " [35740   126]]\n",
      "\n",
      "\n",
      "\n",
      "\n",
      "\n",
      "\n",
      " random forest \n",
      "Frequency of unique values of the said array: y \n",
      "[[    0     1]\n",
      " [35780    86]]\n",
      "\n",
      "\n",
      "\n",
      "\n",
      "\n",
      "\n",
      " lightgbm \n",
      "Frequency of unique values of the said array: y \n",
      "[[    0     1]\n",
      " [35672   194]]\n",
      "\n",
      "\n",
      "\n",
      "\n",
      "\n",
      "\n"
     ]
    }
   ],
   "source": [
    "# selected Algo\n",
    "# Extra tree classifier light gbm\n",
    "check_models_acc(X_tl,y_tl,X_test,y_test)\n",
    "chechpredict()"
   ]
  },
  {
   "cell_type": "code",
   "execution_count": 308,
   "metadata": {},
   "outputs": [
    {
     "data": {
      "image/png": "[encoded data removed]",
      "text/plain": [
       "<Figure size 1080x1080 with 1 Axes>"
      ]
     },
     "metadata": {
      "needs_background": "light"
     },
     "output_type": "display_data"
    }
   ],
   "source": [
    "\n",
    "plt.figure(figsize=(15,15))\n",
    "feat_importances = pd.Series(et.feature_importances_, index=df.columns)\n",
    "feat_importances.nlargest(50).plot(kind='barh')\n",
    "plt.show()"
   ]
  },
  {
   "cell_type": "code",
   "execution_count": 294,
   "metadata": {},
   "outputs": [
    {
     "name": "stdout",
     "output_type": "stream",
     "text": [
      "[0.99429399 0.99510791 0.9946256  0.99510791 0.99556932 0.99442758\n",
      " 0.99546139 0.99533591 0.9950996  0.99438951]\n"
     ]
    }
   ],
   "source": [
    "print(cross_val_score(et, X_tl, y_tl, scoring='f1_weighted', cv = 10))"
   ]
  },
  {
   "cell_type": "code",
   "execution_count": 295,
   "metadata": {},
   "outputs": [
    {
     "name": "stdout",
     "output_type": "stream",
     "text": [
      "[0.99351408 0.99443556 0.99377142 0.99321503 0.99459647 0.99420947\n",
      " 0.99428536 0.99400788 0.99421028 0.99335119]\n"
     ]
    }
   ],
   "source": [
    "print(cross_val_score(lg, X_tl, y_tl, scoring='f1_weighted', cv = 10))"
   ]
  },
  {
   "cell_type": "code",
   "execution_count": 296,
   "metadata": {},
   "outputs": [
    {
     "name": "stdout",
     "output_type": "stream",
     "text": [
      " XGBoost \n",
      "Frequency of unique values of the said array: y \n",
      "[[    0     1]\n",
      " [35785    81]]\n",
      "\n",
      "\n",
      "\n",
      "\n",
      "\n",
      "\n",
      " extra  tree \n",
      "Frequency of unique values of the said array: y \n",
      "[[    0     1]\n",
      " [35764   102]]\n",
      "\n",
      "\n",
      "\n",
      "\n",
      "\n",
      "\n",
      " random forest \n",
      "Frequency of unique values of the said array: y \n",
      "[[    0     1]\n",
      " [35795    71]]\n",
      "\n",
      "\n",
      "\n",
      "\n",
      "\n",
      "\n",
      " lightgbm \n",
      "Frequency of unique values of the said array: y \n",
      "[[    0     1]\n",
      " [35852    14]]\n",
      "\n",
      "\n",
      "\n",
      "\n",
      "\n",
      "\n"
     ]
    }
   ],
   "source": [
    "chechpredict()"
   ]
  },
  {
   "cell_type": "code",
   "execution_count": 288,
   "metadata": {},
   "outputs": [],
   "source": [
    "ypr=lg.predict(Xt)\n",
    "tp=pd.DataFrame({'loan_id':l1,'m13':ypr})\n",
    "\n",
    "tp.to_csv('Submission_sampl_lG1.csv',index=False)"
   ]
  },
  {
   "cell_type": "code",
   "execution_count": 311,
   "metadata": {},
   "outputs": [
    {
     "data": {
      "text/plain": [
       "(115782, 28)"
      ]
     },
     "execution_count": 311,
     "metadata": {},
     "output_type": "execute_result"
    }
   ],
   "source": [
    "X_tl.shape"
   ]
  },
  {
   "cell_type": "code",
   "execution_count": 312,
   "metadata": {},
   "outputs": [],
   "source": [
    "extc = ExtraTreesClassifier(n_estimators=700,max_features= 25,criterion= 'entropy',min_samples_split= 5,\n",
    "                            max_depth= 50, min_samples_leaf= 5)"
   ]
  },
  {
   "cell_type": "code",
   "execution_count": 313,
   "metadata": {},
   "outputs": [
    {
     "data": {
      "text/plain": [
       "ExtraTreesClassifier(bootstrap=False, class_weight=None, criterion='entropy',\n",
       "                     max_depth=50, max_features=25, max_leaf_nodes=None,\n",
       "                     min_impurity_decrease=0.0, min_impurity_split=None,\n",
       "                     min_samples_leaf=5, min_samples_split=5,\n",
       "                     min_weight_fraction_leaf=0.0, n_estimators=700,\n",
       "                     n_jobs=None, oob_score=False, random_state=None, verbose=0,\n",
       "                     warm_start=False)"
      ]
     },
     "execution_count": 313,
     "metadata": {},
     "output_type": "execute_result"
    }
   ],
   "source": [
    "extc.fit(X_tl,y_tl)"
   ]
  },
  {
   "cell_type": "code",
   "execution_count": 314,
   "metadata": {},
   "outputs": [],
   "source": [
    "y_pred=extc.predict(X_test)"
   ]
  },
  {
   "cell_type": "code",
   "execution_count": 315,
   "metadata": {},
   "outputs": [
    {
     "name": "stdout",
     "output_type": "stream",
     "text": [
      " Accuracy Score : 0.9968119937963122\n",
      "F1 Score : 0.6372549019607843\n",
      "Classification Report :                precision    recall  f1-score   support\n",
      "\n",
      "           0       1.00      1.00      1.00     23078\n",
      "           1       0.93      0.49      0.64       134\n",
      "\n",
      "    accuracy                           1.00     23212\n",
      "   macro avg       0.96      0.74      0.82     23212\n",
      "weighted avg       1.00      1.00      1.00     23212\n",
      "\n"
     ]
    }
   ],
   "source": [
    "printacc(y_pred,y_test)"
   ]
  },
  {
   "cell_type": "code",
   "execution_count": 317,
   "metadata": {},
   "outputs": [
    {
     "name": "stdout",
     "output_type": "stream",
     "text": [
      "Frequency of unique values of the said array: y \n",
      "[[    0     1]\n",
      " [35718   148]]\n",
      "\n",
      "\n",
      "\n",
      "\n",
      "\n",
      "\n"
     ]
    }
   ],
   "source": [
    "ypr=extc.predict(Xt)\n",
    "checkDist(ypr)"
   ]
  },
  {
   "cell_type": "code",
   "execution_count": 318,
   "metadata": {},
   "outputs": [],
   "source": [
    "tp=pd.DataFrame({'loan_id':l1,'m13':ypr})\n",
    "\n",
    "tp.to_csv('Submission_sampl_EXT1.csv',index=False)"
   ]
  },
  {
   "cell_type": "code",
   "execution_count": 320,
   "metadata": {},
   "outputs": [],
   "source": [
    "from scipy.stats import randint as sp_randint\n",
    "from scipy.stats import uniform as sp_uniform\n",
    "param_test ={'num_leaves': sp_randint(6, 50), \n",
    "             'min_child_samples': sp_randint(100, 500), \n",
    "             'min_child_weight': [1e-5, 1e-3, 1e-2, 1e-1, 1, 1e1, 1e2, 1e3, 1e4],\n",
    "             'subsample': sp_uniform(loc=0.2, scale=0.8), \n",
    "             'colsample_bytree': sp_uniform(loc=0.4, scale=0.6),\n",
    "             'reg_alpha': [0, 1e-1, 1, 2, 5, 7, 10, 50, 100],\n",
    "             'reg_lambda': [0, 1e-1, 1, 5, 10, 20, 50, 100]}"
   ]
  },
  {
   "cell_type": "code",
   "execution_count": 322,
   "metadata": {},
   "outputs": [],
   "source": [
    "n_HP_points_to_test = 100\n",
    "\n",
    "import lightgbm as lgb\n",
    "from sklearn.model_selection import RandomizedSearchCV, GridSearchCV\n",
    "\n",
    "#n_estimators is set to a \"large value\". The actual number of trees build will depend on early stopping and 5000 define only the absolute maximum\n",
    "clf = lgb.LGBMClassifier(max_depth=-1, random_state=314, silent=True, metric='None', n_jobs=4, n_estimators=5000)\n",
    "gs = RandomizedSearchCV(\n",
    "    estimator=clf, param_distributions=param_test, \n",
    "    n_iter=n_HP_points_to_test,\n",
    "    scoring='roc_auc',\n",
    "    cv=3,\n",
    "    refit=True,\n",
    "    random_state=314,\n",
    "    verbose=True)"
   ]
  },
  {
   "cell_type": "code",
   "execution_count": 324,
   "metadata": {},
   "outputs": [
    {
     "name": "stdout",
     "output_type": "stream",
     "text": [
      "Fitting 3 folds for each of 100 candidates, totalling 300 fits\n"
     ]
    },
    {
     "name": "stderr",
     "output_type": "stream",
     "text": [
      "[Parallel(n_jobs=1)]: Using backend SequentialBackend with 1 concurrent workers.\n",
      "[Parallel(n_jobs=1)]: Done 300 out of 300 | elapsed: 67.9min finished\n"
     ]
    },
    {
     "name": "stdout",
     "output_type": "stream",
     "text": [
      "Best score reached: 0.90116944230606 with params: {'colsample_bytree': 0.502738421434817, 'min_child_samples': 312, 'min_child_weight': 10.0, 'num_leaves': 37, 'reg_alpha': 50, 'reg_lambda': 100, 'subsample': 0.4807019566171228} \n"
     ]
    }
   ],
   "source": [
    "gs.fit(X_tl, y_tl)\n",
    "print('Best score reached: {} with params: {} '.format(gs.best_sco re_, gs.best_params_))"
   ]
  },
  {
   "cell_type": "code",
   "execution_count": 325,
   "metadata": {},
   "outputs": [
    {
     "name": "stdout",
     "output_type": "stream",
     "text": [
      "Frequency of unique values of the said array: y \n",
      "[[    0     1]\n",
      " [35792    74]]\n",
      "\n",
      "\n",
      "\n",
      "\n",
      "\n",
      "\n"
     ]
    }
   ],
   "source": [
    "ypr=gs.predict(Xt)\n",
    "checkDist(ypr)"
   ]
  },
  {
   "cell_type": "code",
   "execution_count": 326,
   "metadata": {},
   "outputs": [
    {
     "name": "stdout",
     "output_type": "stream",
     "text": [
      " Accuracy Score : 0.9958211270032742\n",
      "F1 Score : 0.5125628140703518\n",
      "Classification Report :                precision    recall  f1-score   support\n",
      "\n",
      "           0       1.00      1.00      1.00     23078\n",
      "           1       0.78      0.38      0.51       134\n",
      "\n",
      "    accuracy                           1.00     23212\n",
      "   macro avg       0.89      0.69      0.76     23212\n",
      "weighted avg       1.00      1.00      1.00     23212\n",
      "\n"
     ]
    }
   ],
   "source": [
    "y_pred=gs.predict(X_test)\n",
    "printacc(y_pred,y_test)"
   ]
  },
  {
   "cell_type": "code",
   "execution_count": null,
   "metadata": {},
   "outputs": [],
   "source": []
  }
 ],
 "metadata": {
  "kernelspec": {
   "display_name": "Python 3",
   "language": "python",
   "name": "python3"
  },
  "language_info": {
   "codemirror_mode": {
    "name": "ipython",
    "version": 3
   },
   "file_extension": ".py",
   "mimetype": "text/x-python",
   "name": "python",
   "nbconvert_exporter": "python",
   "pygments_lexer": "ipython3",
   "version": "3.7.3"
  }
 },
 "nbformat": 4,
 "nbformat_minor": 2
}
