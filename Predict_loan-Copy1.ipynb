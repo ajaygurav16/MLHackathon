{
 "cells": [
  {
   "cell_type": "code",
   "execution_count": null,
   "metadata": {},
   "outputs": [],
   "source": [
    "import pandas as pd\n",
    "import numpy as np\n",
    "import matplotlib.pyplot as plt\n",
    "import seaborn as sns\n",
    "from sklearn.utils import shuffle\n",
    "from sklearn.linear_model import LogisticRegression\n",
    "from sklearn.model_selection import train_test_split,cross_val_score\n",
    "from sklearn.metrics import accuracy_score,f1_score,classification_report\n",
    "import xgboost as xgb\n",
    "import lightgbm as lgb\n",
    "from sklearn.naive_bayes import MultinomialNB\n",
    "\n",
    "from sklearn.preprocessing import StandardScaler\n",
    "from sklearn.ensemble import RandomForestClassifier,ExtraTreesClassifier\n",
    "from sklearn.decomposition import PCA\n",
    "from sklearn.svm import LinearSVC\n",
    "from sklearn.neighbors import KNeighborsClassifier\n",
    "import tensorflow as tf\n",
    "import warnings\n",
    "warnings.filterwarnings('ignore')\n",
    "\n",
    "from sklearn.metrics import roc_curve, auc\n",
    "\n",
    "from sklearn.feature_selection import SelectKBest,chi2"
   ]
  },
  {
   "cell_type": "code",
   "execution_count": null,
   "metadata": {},
   "outputs": [],
   "source": []
  },
  {
   "cell_type": "code",
   "execution_count": null,
   "metadata": {},
   "outputs": [],
   "source": [
    "sv=LinearSVC()\n",
    "et=ExtraTreesClassifier()\n",
    "kn=KNeighborsClassifier(n_neighbors=5)\n",
    "\n",
    "lr=LogisticRegression()\n",
    "xg=xgb.XGBClassifier()\n",
    "mnb=MultinomialNB()\n",
    "rt=RandomForestClassifier()\n",
    "lg=lgb.LGBMClassifier()"
   ]
  },
  {
   "cell_type": "code",
   "execution_count": null,
   "metadata": {},
   "outputs": [],
   "source": [
    "def printacc(y_pred,y_test):\n",
    "    print(\" Accuracy Score :\",accuracy_score(y_pred,y_test))\n",
    "    print(\"F1 Score :\",f1_score(y_pred,y_test))\n",
    "    print(\"Classification Report : \",classification_report(y_test,y_pred))\n",
    "    \n",
    "    \n",
    "\n",
    "    false_positive_rate, true_positive_rate, thresholds = roc_curve(y_test, y_pred)\n",
    "    roc_auc = auc(false_positive_rate, true_positive_rate)\n",
    "\n",
    "    plt.title('Receiver Operating Characteristic')\n",
    "    plt.plot(false_positive_rate, true_positive_rate, 'b',\n",
    "    label='AUC = %0.2f'% roc_auc)\n",
    "    plt.legend(loc='lower right')\n",
    "    plt.plot([0,1],[0,1],'r--')\n",
    "    plt.xlim([-0.1,1.2])\n",
    "    plt.ylim([-0.1,1.2])\n",
    "    plt.ylabel('True Positive Rate')\n",
    "    plt.xlabel('False Positive Rate')\n",
    "    plt.show()\n",
    "    \n",
    "def plot_2d_space(X, y, label='Classes'):   \n",
    "    colors = ['#1F77B4', '#FF7F0E']\n",
    "    markers = ['o', 's']\n",
    "    for l, c, m in zip(np.unique(y), colors, markers):\n",
    "        plt.scatter(\n",
    "            X[y==l, 0],\n",
    "            X[y==l, 1],\n",
    "            c=c, label=l, marker=m\n",
    "        )\n",
    "    plt.title(label)\n",
    "    plt.legend(loc='upper right')\n",
    "    plt.show()\n",
    "\n",
    "\n",
    "\n",
    "def check_models_acc(X_train,y_train,X_test,y_test):\n",
    "   \n",
    "        \n",
    "    xg.fit(X_train,y_train)\n",
    "    y_pred=xg.predict(X_test)\n",
    "    print('XGboost')\n",
    "    printacc(y_pred,y_test)\n",
    "    \n",
    "    et.fit(X_train,y_train)\n",
    "    y_pred=et.predict(X_test)\n",
    "   \n",
    "    print('Extra tree class')\n",
    "    printacc(y_pred,y_test)\n",
    "    \n",
    "        \n",
    "    rt.fit(X_train,y_train)\n",
    "    y_pred=rt.predict(X_test)\n",
    "    \n",
    "    print('random forest')\n",
    "    printacc(y_pred,y_test)\n",
    "    \n",
    "    \n",
    "    lg.fit(X_train,y_train)\n",
    "    y_pred=lg.predict(X_test)\n",
    "    print('Lightgbm')\n",
    "    printacc(y_pred,y_test)\n",
    "    \n",
    "    \n",
    "    '''\n",
    "    \n",
    "    kn.fit(X_train,y_train)\n",
    "    y_pred=kn.predict(X_test)\n",
    "    print('KNN')\n",
    "    printacc(y_pred,y_test)\n",
    "    \n",
    "    \n",
    "    \n",
    "    lr.fit(X_train,y_train)\n",
    "    y_pred=lr.predict(X_test)\n",
    "    print('logistic regression')\n",
    "    printacc(y_pred,y_test)\n",
    "    \n",
    "    \n",
    "\n",
    "\n",
    "     \n",
    "   \n",
    "    sv.fit(X_train,y_train)\n",
    "    y_pred=sv.predict(X_test)\n",
    "    print('SVM')\n",
    "    printacc(y_pred,y_test)\n",
    "     \n",
    "\n",
    "       \n",
    "    \n",
    "     \n",
    "    \n",
    "    mnb.fit(X_train,y_train)\n",
    "\n",
    "    y_pred=mnb.predict(X_test)\n",
    "    \n",
    "    print('multi nomial')\n",
    "    printacc(y_pred,y_test)\n",
    "    '''\n",
    "    \n",
    "    \n",
    "def checkDist(y):\n",
    "\n",
    "    unique_elements, counts_elements = np.unique(y, return_counts=True)\n",
    "\n",
    "    print(\"Frequency of unique values of the said array: y \")\n",
    "    print(np.asarray((unique_elements, counts_elements)))\n",
    "    print('\\n')\n",
    "    print('\\n')\n",
    "    print('\\n')\n",
    "\n",
    "\n",
    "def chechpredict():\n",
    "   \n",
    "    print(\" XGBoost \")\n",
    "    ypr=xg.predict(Xt)\n",
    "    checkDist(ypr)\n",
    "  \n",
    "    print(\" extra  tree \")\n",
    "    ypr=et.predict(Xt)\n",
    "    checkDist(ypr)\n",
    "    \n",
    "    \n",
    "    print(\" random forest \")\n",
    "    ypr=rt.predict(Xt)\n",
    "    checkDist(ypr)\n",
    "    \n",
    "    print(\" lightgbm \")\n",
    "    ypr=lg.predict(Xt)\n",
    "    checkDist(ypr)\n",
    "    \n",
    "   \n",
    "    '''\n",
    "    print(\" logistic regression\")\n",
    "    ypr=lr.predict(Xt)\n",
    "    checkDist(ypr)\n",
    "    \n",
    "    print(\" kNN \")\n",
    "    ypr=kn.predict(Xt)\n",
    "    checkDist(ypr)\n",
    "    \n",
    "\n",
    "    \n",
    "    \n",
    "    print(\" multinomial\")\n",
    "    ypr=mnb.predict(Xt)\n",
    "    checkDist(ypr)\n",
    "    print(\" svm\")\n",
    "    \n",
    "    ypr=sv.predict(Xt)\n",
    "    checkDist(ypr)\n",
    "    \n",
    "    '''\n",
    "\n"
   ]
  },
  {
   "cell_type": "code",
   "execution_count": null,
   "metadata": {},
   "outputs": [],
   "source": []
  },
  {
   "cell_type": "code",
   "execution_count": null,
   "metadata": {},
   "outputs": [],
   "source": [
    "df=pd.read_csv('train.csv')\n",
    "df['first_payment_month']=df.first_payment_date.apply(lambda x:x.split('/')[0])\n",
    "\n",
    "df['first_payment_month']=df.first_payment_month.astype('object')\n",
    "df['origination_month']=df.origination_date.apply(lambda x:x.split('-')[1])\n",
    "\n",
    "df['origination_month']=df.origination_month.astype('object')\n",
    "\n",
    "df['mt']=df.m1+df.m2+df.m3+df.m4+df.m5+df.m6+df.m7+df.m8+df.m9+df.m10+df.m11+df.m12\n",
    "\n",
    "df = shuffle(df)\n",
    "\n",
    "\n",
    "\n",
    "\n",
    "y=df.m13.values\n",
    "\n",
    "df.drop(['origination_date','first_payment_date','m13','loan_id'],axis=1,inplace=True)\n",
    "  \n",
    "df=pd.get_dummies(df)\n",
    "\n",
    "X=df.values\n",
    "sc=StandardScaler()\n",
    "sc.fit_transform(X)\n",
    "\n",
    "\n",
    "X_train,X_test,y_train,y_test=train_test_split(X,y,test_size=0.2)"
   ]
  },
  {
   "cell_type": "code",
   "execution_count": null,
   "metadata": {},
   "outputs": [],
   "source": []
  },
  {
   "cell_type": "code",
   "execution_count": null,
   "metadata": {},
   "outputs": [],
   "source": [
    "month_to_num={\"Jan\":1,\"Feb\":2,\"Mar\":3,\"Apr\":4,\"May\":5,\"Jun\":6,\"Jul\":7,\"Aug\":8,\"Sep\":9,\"Oct\":10,\"Nov\":11,\"Dec\":12}\n",
    "dt=pd.read_csv('test.csv')\n",
    "dt['first_payment_month']=dt.first_payment_date.apply(lambda x:month_to_num[x.split('-')[0]])\n",
    "\n",
    "dt['first_payment_month']=dt.first_payment_month.astype('object')\n",
    "dt['origination_month']=dt.origination_date.apply(lambda x:x.split('/')[1])\n",
    "\n",
    "dt['origination_month']=dt.origination_month.astype('object')\n",
    "dt['mt']=dt.m1+dt.m2+dt.m3+dt.m4+dt.m5+dt.m6+dt.m7+dt.m8+dt.m9+dt.m10+dt.m11+dt.m12\n",
    "\n",
    "l1=dt.loan_id\n",
    "#dt.drop(['origination_date','first_payment_date','loan_id'],axis=1,inplace=True)\n",
    "#dt.drop(['origination_date','first_payment_date','source','financial_institution','loan_purpose','loan_id'],axis=1,inplace=True)\n",
    "dt.drop(['origination_date','first_payment_date','loan_id'],axis=1,inplace=True)\n",
    "    \n",
    "dt=pd.get_dummies(dt)\n",
    "Xt=dt.values\n",
    "\n",
    "Xt=sc.transform(Xt)\n"
   ]
  },
  {
   "cell_type": "code",
   "execution_count": null,
   "metadata": {},
   "outputs": [],
   "source": [
    "from imblearn.under_sampling import TomekLinks\n",
    "\n",
    "tl = TomekLinks(return_indices=True, ratio='majority')\n",
    "X_tl, y_tl, id_tl = tl.fit_sample(X_train, y_train)\n",
    "\n",
    "print('Removed indexes:', id_tl)\n",
    "\n",
    "plot_2d_space(X_tl, y_tl, 'Tomek links under-sampling')"
   ]
  },
  {
   "cell_type": "code",
   "execution_count": null,
   "metadata": {},
   "outputs": [],
   "source": [
    "check_models_acc(X_tl,y_tl,X_test,y_test)\n",
    "chechpredict()"
   ]
  },
  {
   "cell_type": "code",
   "execution_count": null,
   "metadata": {},
   "outputs": [],
   "source": [
    "ypr=rt.predict(Xt)\n",
    "tp=pd.DataFrame({'loan_id':l1,'m13':ypr})\n",
    "\n",
    "tp.to_csv('Submission_sampl_RT5.csv',index=False)\n",
    "\n",
    "\n",
    "ypr=et.predict(Xt)\n",
    "tp=pd.DataFrame({'loan_id':l1,'m13':ypr})\n",
    "\n",
    "tp.to_csv('Submission_sampl_XT5.csv',index=False)\n",
    "\n",
    "ypr=xg.predict(Xt)\n",
    "tp=pd.DataFrame({'loan_id':l1,'m13':ypr})\n",
    "\n",
    "tp.to_csv('Submission_sampl_XG5.csv',index=False)\n",
    "\n",
    "ypr=lg.predict(Xt)\n",
    "tp=pd.DataFrame({'loan_id':l1,'m13':ypr})\n",
    "\n",
    "tp.to_csv('Submission_sampl_lG5.csv',index=False)"
   ]
  },
  {
   "cell_type": "code",
   "execution_count": null,
   "metadata": {},
   "outputs": [],
   "source": [
    "from imblearn.over_sampling import RandomOverSampler\n",
    "\n",
    "ros = RandomOverSampler()\n",
    "X_ros, y_ros = ros.fit_sample(X_train, y_train)\n",
    "\n",
    "print(X_ros.shape[0] - X.shape[0], 'new random picked points')\n",
    "\n",
    "plot_2d_space(X_ros, y_ros, 'Random over-sampling')"
   ]
  },
  {
   "cell_type": "code",
   "execution_count": null,
   "metadata": {},
   "outputs": [],
   "source": [
    "check_models_acc(X_ros,y_ros,X_test,y_test)\n",
    "chechpredict()"
   ]
  },
  {
   "cell_type": "code",
   "execution_count": null,
   "metadata": {},
   "outputs": [],
   "source": [
    "ypr=rt.predict(Xt)\n",
    "tp=pd.DataFrame({'loan_id':l1,'m13':ypr})\n",
    "\n",
    "tp.to_csv('Submission_sampl_RT6.csv',index=False)\n",
    "\n",
    "\n",
    "ypr=et.predict(Xt)\n",
    "tp=pd.DataFrame({'loan_id':l1,'m13':ypr})\n",
    "\n",
    "tp.to_csv('Submission_sampl_XT6.csv',index=False)\n",
    "\n",
    "ypr=xg.predict(Xt)\n",
    "tp=pd.DataFrame({'loan_id':l1,'m13':ypr})\n",
    "\n",
    "tp.to_csv('Submission_sampl_XG6.csv',index=False)\n",
    "\n",
    "ypr=lg.predict(Xt)\n",
    "tp=pd.DataFrame({'loan_id':l1,'m13':ypr})\n",
    "\n",
    "tp.to_csv('Submission_sampl_lG6.csv',index=False)"
   ]
  },
  {
   "cell_type": "code",
   "execution_count": null,
   "metadata": {},
   "outputs": [],
   "source": []
  },
  {
   "cell_type": "code",
   "execution_count": 45,
   "metadata": {},
   "outputs": [],
   "source": [
    "from keras.models import Sequential\n",
    "from keras.layers import Dense,Dropout"
   ]
  },
  {
   "cell_type": "code",
   "execution_count": 46,
   "metadata": {},
   "outputs": [
    {
     "name": "stdout",
     "output_type": "stream",
     "text": [
      "WARNING:tensorflow:From D:\\anaconda\\lib\\site-packages\\tensorflow\\python\\framework\\op_def_library.py:263: colocate_with (from tensorflow.python.framework.ops) is deprecated and will be removed in a future version.\n",
      "Instructions for updating:\n",
      "Colocations handled automatically by placer.\n"
     ]
    }
   ],
   "source": [
    "model = Sequential()\n",
    "model.add(Dense(32, activation='relu'))\n",
    "\n",
    "model.add(Dense(16, activation='relu'))\n",
    "model.add(Dense(1, activation='sigmoid'))\n",
    "# 2. compile the network\n",
    "model.compile(loss='binary_crossentropy', optimizer='adam', metrics=['accuracy'])"
   ]
  },
  {
   "cell_type": "code",
   "execution_count": 47,
   "metadata": {},
   "outputs": [
    {
     "name": "stdout",
     "output_type": "stream",
     "text": [
      "WARNING:tensorflow:From D:\\anaconda\\lib\\site-packages\\tensorflow\\python\\ops\\math_ops.py:3066: to_int32 (from tensorflow.python.ops.math_ops) is deprecated and will be removed in a future version.\n",
      "Instructions for updating:\n",
      "Use tf.cast instead.\n",
      "Train on 184694 samples, validate on 23212 samples\n",
      "Epoch 1/3\n",
      "184694/184694 [==============================] - 90s 488us/step - loss: 8.0590 - acc: 0.5000 - val_loss: 0.0951 - val_acc: 0.9941\n",
      "Epoch 2/3\n",
      "184694/184694 [==============================] - 76s 409us/step - loss: 8.0590 - acc: 0.5000 - val_loss: 0.0951 - val_acc: 0.9941\n",
      "Epoch 3/3\n",
      "184694/184694 [==============================] - 78s 424us/step - loss: 8.0590 - acc: 0.5000 - val_loss: 0.0951 - val_acc: 0.9941\n"
     ]
    }
   ],
   "source": [
    "with tf.device(\"/:gpu:0\"):\n",
    "    model.fit(X_ros,y_ros,epochs=3,batch_size=20,validation_data=(X_test,y_test))"
   ]
  },
  {
   "cell_type": "code",
   "execution_count": 48,
   "metadata": {},
   "outputs": [
    {
     "name": "stdout",
     "output_type": "stream",
     "text": [
      " Accuracy Score : 0.9940978804066862\n",
      "F1 Score : 0.0\n",
      "Classification Report :                precision    recall  f1-score   support\n",
      "\n",
      "           0       0.99      1.00      1.00     23075\n",
      "           1       0.00      0.00      0.00       137\n",
      "\n",
      "    accuracy                           0.99     23212\n",
      "   macro avg       0.50      0.50      0.50     23212\n",
      "weighted avg       0.99      0.99      0.99     23212\n",
      "\n"
     ]
    }
   ],
   "source": [
    "y_pred=model.predict_classes(X_test)\n",
    "y_pred=y_pred.flatten()\n",
    "printacc(y_pred,y_test)\n",
    "\n"
   ]
  },
  {
   "cell_type": "code",
   "execution_count": null,
   "metadata": {},
   "outputs": [],
   "source": []
  },
  {
   "cell_type": "code",
   "execution_count": 49,
   "metadata": {},
   "outputs": [
    {
     "name": "stdout",
     "output_type": "stream",
     "text": [
      "Frequency of unique values of the said array: y \n",
      "[[    0     1]\n",
      " [28414  7452]]\n",
      "\n",
      "\n",
      "\n",
      "\n",
      "\n",
      "\n"
     ]
    }
   ],
   "source": [
    "ypr=model.predict_classes(Xt)\n",
    "ypr=ypr.flatten()\n",
    "checkDist(ypr)"
   ]
  },
  {
   "cell_type": "code",
   "execution_count": null,
   "metadata": {},
   "outputs": [],
   "source": []
  },
  {
   "cell_type": "code",
   "execution_count": 96,
   "metadata": {},
   "outputs": [],
   "source": [
    "df=pd.read_csv('train.csv')\n",
    "df['first_payment_month']=df.first_payment_date.apply(lambda x:x.split('/')[0])\n",
    "\n",
    "df['first_payment_month']=df.first_payment_month.astype('object')\n",
    "df['origination_month']=df.origination_date.apply(lambda x:x.split('-')[1])\n",
    "\n",
    "df['origination_month']=df.origination_month.astype('object')\n",
    "\n",
    "df['mt']=df.m1+df.m2+df.m3+df.m4+df.m5+df.m6+df.m7+df.m8+df.m9+df.m10+df.m11+df.m12\n",
    "\n",
    "df = shuffle(df)\n",
    "\n",
    "\n",
    "\n",
    "\n",
    "y=df.m13.values\n",
    "\n",
    "df.drop(['insurance_type','origination_date','first_payment_date','m13','loan_id'],axis=1,inplace=True)\n",
    "  \n",
    "df=pd.get_dummies(df)\n",
    "\n",
    "X=df.values\n"
   ]
  },
  {
   "cell_type": "code",
   "execution_count": null,
   "metadata": {},
   "outputs": [],
   "source": []
  },
  {
   "cell_type": "code",
   "execution_count": 97,
   "metadata": {},
   "outputs": [
    {
     "data": {
      "text/plain": [
       "(92621, 20)"
      ]
     },
     "execution_count": 97,
     "metadata": {},
     "output_type": "execute_result"
    }
   ],
   "source": [
    "X_train.shape"
   ]
  },
  {
   "cell_type": "code",
   "execution_count": 98,
   "metadata": {},
   "outputs": [
    {
     "name": "stdout",
     "output_type": "stream",
     "text": [
      "Removed indexes: [     0      1      2 ... 116055 116056 116057]\n"
     ]
    },
    {
     "data": {
      "image/png": "[encoded data removed]",
      "text/plain": [
       "<Figure size 432x288 with 1 Axes>"
      ]
     },
     "metadata": {
      "needs_background": "light"
     },
     "output_type": "display_data"
    }
   ],
   "source": [
    "from imblearn.under_sampling import TomekLinks\n",
    "\n",
    "tl = TomekLinks(return_indices=True, ratio='majority')\n",
    "X_tl, y_tl, id_tl = tl.fit_sample(X, y)\n",
    "\n",
    "print('Removed indexes:', id_tl)\n",
    "\n",
    "plot_2d_space(X_tl, y_tl, 'Tomek links under-sampling')"
   ]
  },
  {
   "cell_type": "code",
   "execution_count": null,
   "metadata": {},
   "outputs": [],
   "source": []
  },
  {
   "cell_type": "code",
   "execution_count": 99,
   "metadata": {},
   "outputs": [],
   "source": [
    "#sc=StandardScaler()\n",
    "#X_tl=sc.fit_transform(X_tl)\n",
    "\n",
    "X_tl=X_tl.astype('int')\n",
    "\n",
    "\n",
    "ch2=SelectKBest(chi2,k=30)\n",
    "\n",
    "X_tl=ch2.fit_transform(X_tl,y_tl)\n",
    "\n",
    "\n",
    "\n",
    "X_train,X_test,y_train,y_test=train_test_split(X_tl,y_tl,test_size=0.2)"
   ]
  },
  {
   "cell_type": "code",
   "execution_count": 100,
   "metadata": {},
   "outputs": [],
   "source": [
    "month_to_num={\"Jan\":1,\"Feb\":2,\"Mar\":3,\"Apr\":4,\"May\":5,\"Jun\":6,\"Jul\":7,\"Aug\":8,\"Sep\":9,\"Oct\":10,\"Nov\":11,\"Dec\":12}\n",
    "dt=pd.read_csv('test.csv')\n",
    "dt['first_payment_month']=dt.first_payment_date.apply(lambda x:month_to_num[x.split('-')[0]])\n",
    "\n",
    "dt['first_payment_month']=dt.first_payment_month.astype('object')\n",
    "dt['origination_month']=dt.origination_date.apply(lambda x:x.split('/')[1])\n",
    "\n",
    "dt['origination_month']=dt.origination_month.astype('object')\n",
    "dt['mt']=dt.m1+dt.m2+dt.m3+dt.m4+dt.m5+dt.m6+dt.m7+dt.m8+dt.m9+dt.m10+dt.m11+dt.m12\n",
    "\n",
    "l1=dt.loan_id\n",
    "#dt.drop(['origination_date','first_payment_date','loan_id'],axis=1,inplace=True)\n",
    "#dt.drop(['origination_date','first_payment_date','source','financial_institution','loan_purpose','loan_id'],axis=1,inplace=True)\n",
    "dt.drop(['insurance_type','origination_date','first_payment_date','loan_id'],axis=1,inplace=True)\n",
    "    \n",
    "dt=pd.get_dummies(dt)\n",
    "Xt=dt.values\n",
    "\n",
    "#Xt=sc.transform(Xt)\n",
    "Xt=Xt.astype('int')\n",
    "Xt=ch2.transform(Xt)\n",
    "\n",
    "\n",
    "\n"
   ]
  },
  {
   "cell_type": "code",
   "execution_count": 101,
   "metadata": {},
   "outputs": [
    {
     "name": "stdout",
     "output_type": "stream",
     "text": [
      "XGboost\n",
      " Accuracy Score : 0.996026947659354\n",
      "F1 Score : 0.5353535353535354\n",
      "Classification Report :                precision    recall  f1-score   support\n",
      "\n",
      "           0       1.00      1.00      1.00     23025\n",
      "           1       0.79      0.40      0.54       131\n",
      "\n",
      "    accuracy                           1.00     23156\n",
      "   macro avg       0.89      0.70      0.77     23156\n",
      "weighted avg       1.00      1.00      1.00     23156\n",
      "\n"
     ]
    },
    {
     "data": {
      "image/png": "[encoded data removed]",
      "text/plain": [
       "<Figure size 432x288 with 1 Axes>"
      ]
     },
     "metadata": {
      "needs_background": "light"
     },
     "output_type": "display_data"
    },
    {
     "name": "stdout",
     "output_type": "stream",
     "text": [
      "Extra tree class\n",
      " Accuracy Score : 0.9953359820348938\n",
      "F1 Score : 0.45999999999999996\n",
      "Classification Report :                precision    recall  f1-score   support\n",
      "\n",
      "           0       1.00      1.00      1.00     23025\n",
      "           1       0.67      0.35      0.46       131\n",
      "\n",
      "    accuracy                           1.00     23156\n",
      "   macro avg       0.83      0.68      0.73     23156\n",
      "weighted avg       0.99      1.00      0.99     23156\n",
      "\n"
     ]
    },
    {
     "data": {
      "image/png": "[encoded data removed]",
      "text/plain": [
       "<Figure size 432x288 with 1 Axes>"
      ]
     },
     "metadata": {
      "needs_background": "light"
     },
     "output_type": "display_data"
    },
    {
     "name": "stdout",
     "output_type": "stream",
     "text": [
      "random forest\n",
      " Accuracy Score : 0.9955087234410088\n",
      "F1 Score : 0.4693877551020408\n",
      "Classification Report :                precision    recall  f1-score   support\n",
      "\n",
      "           0       1.00      1.00      1.00     23025\n",
      "           1       0.71      0.35      0.47       131\n",
      "\n",
      "    accuracy                           1.00     23156\n",
      "   macro avg       0.85      0.68      0.73     23156\n",
      "weighted avg       0.99      1.00      0.99     23156\n",
      "\n"
     ]
    },
    {
     "data": {
      "image/png": "[encoded data removed]",
      "text/plain": [
       "<Figure size 432x288 with 1 Axes>"
      ]
     },
     "metadata": {
      "needs_background": "light"
     },
     "output_type": "display_data"
    },
    {
     "name": "stdout",
     "output_type": "stream",
     "text": [
      "Lightgbm\n",
      " Accuracy Score : 0.9952064259803075\n",
      "F1 Score : 0.4884792626728111\n",
      "Classification Report :                precision    recall  f1-score   support\n",
      "\n",
      "           0       1.00      1.00      1.00     23025\n",
      "           1       0.62      0.40      0.49       131\n",
      "\n",
      "    accuracy                           1.00     23156\n",
      "   macro avg       0.81      0.70      0.74     23156\n",
      "weighted avg       0.99      1.00      0.99     23156\n",
      "\n"
     ]
    },
    {
     "data": {
      "image/png": "[encoded data removed]",
      "text/plain": [
       "<Figure size 432x288 with 1 Axes>"
      ]
     },
     "metadata": {
      "needs_background": "light"
     },
     "output_type": "display_data"
    }
   ],
   "source": [
    "check_models_acc(X_train,y_train,X_test,y_test)\n"
   ]
  },
  {
   "cell_type": "code",
   "execution_count": 102,
   "metadata": {},
   "outputs": [
    {
     "name": "stdout",
     "output_type": "stream",
     "text": [
      " XGBoost \n",
      "Frequency of unique values of the said array: y \n",
      "[[    0     1]\n",
      " [35784    82]]\n",
      "\n",
      "\n",
      "\n",
      "\n",
      "\n",
      "\n",
      " extra  tree \n",
      "Frequency of unique values of the said array: y \n",
      "[[    0     1]\n",
      " [35763   103]]\n",
      "\n",
      "\n",
      "\n",
      "\n",
      "\n",
      "\n",
      " random forest \n",
      "Frequency of unique values of the said array: y \n",
      "[[    0     1]\n",
      " [35791    75]]\n",
      "\n",
      "\n",
      "\n",
      "\n",
      "\n",
      "\n",
      " lightgbm \n",
      "Frequency of unique values of the said array: y \n",
      "[[    0     1]\n",
      " [35747   119]]\n",
      "\n",
      "\n",
      "\n",
      "\n",
      "\n",
      "\n"
     ]
    }
   ],
   "source": [
    "chechpredict()"
   ]
  },
  {
   "cell_type": "code",
   "execution_count": null,
   "metadata": {},
   "outputs": [],
   "source": []
  },
  {
   "cell_type": "code",
   "execution_count": null,
   "metadata": {},
   "outputs": [],
   "source": []
  },
  {
   "cell_type": "code",
   "execution_count": null,
   "metadata": {},
   "outputs": [],
   "source": []
  }
 ],
 "metadata": {
  "kernelspec": {
   "display_name": "Python 3",
   "language": "python",
   "name": "python3"
  },
  "language_info": {
   "codemirror_mode": {
    "name": "ipython",
    "version": 3
   },
   "file_extension": ".py",
   "mimetype": "text/x-python",
   "name": "python",
   "nbconvert_exporter": "python",
   "pygments_lexer": "ipython3",
   "version": "3.7.3"
  }
 },
 "nbformat": 4,
 "nbformat_minor": 2
}
